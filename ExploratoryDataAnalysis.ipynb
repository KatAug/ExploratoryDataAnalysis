{
 "cells": [
  {
   "attachments": {},
   "cell_type": "markdown",
   "metadata": {},
   "source": [
    "## Exploratory Data Analysis Part 1"
   ]
  },
  {
   "attachments": {},
   "cell_type": "markdown",
   "metadata": {},
   "source": [
    "#### Set imports for access to the Pandas, Matplotlib, and MySQL Connector Python libraries"
   ]
  },
  {
   "cell_type": "code",
   "execution_count": 72,
   "metadata": {},
   "outputs": [],
   "source": [
    "import pandas as pd"
   ]
  },
  {
   "cell_type": "code",
   "execution_count": 73,
   "metadata": {},
   "outputs": [],
   "source": [
    "import matplotlib.pyplot as plt"
   ]
  },
  {
   "cell_type": "code",
   "execution_count": 74,
   "metadata": {},
   "outputs": [],
   "source": [
    "import mysql.connector as connection"
   ]
  },
  {
   "attachments": {},
   "cell_type": "markdown",
   "metadata": {},
   "source": [
    "#### Set up the proper imports to have access to the scikit-learn Python library\n"
   ]
  },
  {
   "cell_type": "code",
   "execution_count": 75,
   "metadata": {},
   "outputs": [],
   "source": [
    "from sklearn.linear_model import LinearRegression"
   ]
  },
  {
   "attachments": {},
   "cell_type": "markdown",
   "metadata": {},
   "source": [
    "#### Use MySQL Connector to establish a connection to my remote data source\n"
   ]
  },
  {
   "cell_type": "code",
   "execution_count": 76,
   "metadata": {},
   "outputs": [],
   "source": [
    "mydb = connection.connect(host=\"devcodecamp-mysql.c5p7yvjq1h8y.us-east-2.rds.amazonaws.com\", database=\"salesdb\", user=\"root\", password=\"D3v$tudent\", use_pure=\"True\")\n"
   ]
  },
  {
   "attachments": {},
   "cell_type": "markdown",
   "metadata": {},
   "source": [
    "#### Query the database to JOIN the information from the sales and cities tables together, and save the result as a single DataFrame variable"
   ]
  },
  {
   "cell_type": "code",
   "execution_count": 77,
   "metadata": {},
   "outputs": [
    {
     "name": "stderr",
     "output_type": "stream",
     "text": [
      "C:\\Users\\katri\\AppData\\Local\\Temp\\ipykernel_4120\\1913456090.py:5: UserWarning: pandas only supports SQLAlchemy connectable (engine/connection) or database string URI or sqlite3 DBAPI2 connection. Other DBAPI2 objects are not tested. Please consider using SQLAlchemy.\n",
      "  joined_df = pd.read_sql(joinquery, mydb, index_col=\"Invoice_ID\")\n"
     ]
    },
    {
     "data": {
      "text/html": [
       "<div>\n",
       "<style scoped>\n",
       "    .dataframe tbody tr th:only-of-type {\n",
       "        vertical-align: middle;\n",
       "    }\n",
       "\n",
       "    .dataframe tbody tr th {\n",
       "        vertical-align: top;\n",
       "    }\n",
       "\n",
       "    .dataframe thead th {\n",
       "        text-align: right;\n",
       "    }\n",
       "</style>\n",
       "<table border=\"1\" class=\"dataframe\">\n",
       "  <thead>\n",
       "    <tr style=\"text-align: right;\">\n",
       "      <th></th>\n",
       "      <th>City_ID</th>\n",
       "      <th>City</th>\n",
       "      <th>Customer_Type</th>\n",
       "      <th>Product_Line</th>\n",
       "      <th>Unit_Price</th>\n",
       "      <th>Quantity</th>\n",
       "      <th>Total</th>\n",
       "      <th>Date</th>\n",
       "      <th>COGS</th>\n",
       "      <th>Rating</th>\n",
       "    </tr>\n",
       "    <tr>\n",
       "      <th>Invoice_ID</th>\n",
       "      <th></th>\n",
       "      <th></th>\n",
       "      <th></th>\n",
       "      <th></th>\n",
       "      <th></th>\n",
       "      <th></th>\n",
       "      <th></th>\n",
       "      <th></th>\n",
       "      <th></th>\n",
       "      <th></th>\n",
       "    </tr>\n",
       "  </thead>\n",
       "  <tbody>\n",
       "    <tr>\n",
       "      <th>101-17-6199</th>\n",
       "      <td>1</td>\n",
       "      <td>Seattle</td>\n",
       "      <td>Normal</td>\n",
       "      <td>Food and beverages</td>\n",
       "      <td>45.79</td>\n",
       "      <td>7</td>\n",
       "      <td>336.5565</td>\n",
       "      <td>3/13/2019</td>\n",
       "      <td>320.53</td>\n",
       "      <td>7.0</td>\n",
       "    </tr>\n",
       "    <tr>\n",
       "      <th>101-81-4070</th>\n",
       "      <td>3</td>\n",
       "      <td>Milwaukee</td>\n",
       "      <td>Member</td>\n",
       "      <td>Health and beauty</td>\n",
       "      <td>62.82</td>\n",
       "      <td>2</td>\n",
       "      <td>131.9220</td>\n",
       "      <td>1/17/2019</td>\n",
       "      <td>125.64</td>\n",
       "      <td>4.9</td>\n",
       "    </tr>\n",
       "    <tr>\n",
       "      <th>102-06-2002</th>\n",
       "      <td>3</td>\n",
       "      <td>Milwaukee</td>\n",
       "      <td>Member</td>\n",
       "      <td>Sports and travel</td>\n",
       "      <td>25.25</td>\n",
       "      <td>5</td>\n",
       "      <td>132.5625</td>\n",
       "      <td>3/20/2019</td>\n",
       "      <td>126.25</td>\n",
       "      <td>6.1</td>\n",
       "    </tr>\n",
       "    <tr>\n",
       "      <th>102-77-2261</th>\n",
       "      <td>3</td>\n",
       "      <td>Milwaukee</td>\n",
       "      <td>Member</td>\n",
       "      <td>Health and beauty</td>\n",
       "      <td>65.31</td>\n",
       "      <td>7</td>\n",
       "      <td>480.0285</td>\n",
       "      <td>3/5/2019</td>\n",
       "      <td>457.17</td>\n",
       "      <td>4.2</td>\n",
       "    </tr>\n",
       "    <tr>\n",
       "      <th>105-10-6182</th>\n",
       "      <td>1</td>\n",
       "      <td>Seattle</td>\n",
       "      <td>Member</td>\n",
       "      <td>Fashion accessories</td>\n",
       "      <td>21.48</td>\n",
       "      <td>2</td>\n",
       "      <td>45.1080</td>\n",
       "      <td>2/27/2019</td>\n",
       "      <td>42.96</td>\n",
       "      <td>6.6</td>\n",
       "    </tr>\n",
       "  </tbody>\n",
       "</table>\n",
       "</div>"
      ],
      "text/plain": [
       "             City_ID       City Customer_Type         Product_Line  \\\n",
       "Invoice_ID                                                           \n",
       "101-17-6199        1    Seattle        Normal   Food and beverages   \n",
       "101-81-4070        3  Milwaukee        Member    Health and beauty   \n",
       "102-06-2002        3  Milwaukee        Member    Sports and travel   \n",
       "102-77-2261        3  Milwaukee        Member    Health and beauty   \n",
       "105-10-6182        1    Seattle        Member  Fashion accessories   \n",
       "\n",
       "             Unit_Price  Quantity     Total       Date    COGS  Rating  \n",
       "Invoice_ID                                                              \n",
       "101-17-6199       45.79         7  336.5565  3/13/2019  320.53     7.0  \n",
       "101-81-4070       62.82         2  131.9220  1/17/2019  125.64     4.9  \n",
       "102-06-2002       25.25         5  132.5625  3/20/2019  126.25     6.1  \n",
       "102-77-2261       65.31         7  480.0285   3/5/2019  457.17     4.2  \n",
       "105-10-6182       21.48         2   45.1080  2/27/2019   42.96     6.6  "
      ]
     },
     "execution_count": 77,
     "metadata": {},
     "output_type": "execute_result"
    }
   ],
   "source": [
    "joinquery = \"\"\"Select salesdb.sales.City_ID, salesdb.cities.City, salesdb.sales.Invoice_ID, salesdb.sales.Customer_Type, salesdb.sales.Product_Line, salesdb.sales.Unit_Price, salesdb.sales.Quantity, salesdb.sales.Total, salesdb.sales.Date, salesdb.sales.COGS, salesdb.sales.Rating\n",
    "FROM salesdb.sales\n",
    "INNER JOIN salesdb.cities\n",
    "ON salesdb.sales.City_ID = salesdb.cities.City_ID;\"\"\"\n",
    "joined_df = pd.read_sql(joinquery, mydb, index_col=\"Invoice_ID\")\n",
    "joined_df.head()\n"
   ]
  },
  {
   "attachments": {},
   "cell_type": "markdown",
   "metadata": {},
   "source": [
    "#### Perform the necessary data cleaning and wrangling steps for your DataFrame:\n"
   ]
  },
  {
   "attachments": {},
   "cell_type": "markdown",
   "metadata": {},
   "source": [
    "* Exploring the information of the joined DataFrame"
   ]
  },
  {
   "attachments": {},
   "cell_type": "markdown",
   "metadata": {},
   "source": [
    "After exploring the different columns in the joined DataFrame, I determined that I would like the Invoice_ID column to serve as my index column since it has unique identifiers for each row. I am seeing that the customer type has either a non-member or a member. There are different product lines, such as Food and beverages, Health and beauty, Sports and travel, Fashion accessories. I can already tell that I will want to change the way that is formatted! The sales tax column has \"None\" in it. The unit price * the quantity gives the total for the COGS column. The total column includes sales tax but need to figure out what percentage that is since there is no amount in the sales tax column, or can drop the sales tax column altogether. There are several methods of payment: Credit card, Ewallet and Cash. Gross Income for each Invoice, I am presuming. I am guessing the rating is the customer rating?? "
   ]
  },
  {
   "attachments": {},
   "cell_type": "markdown",
   "metadata": {},
   "source": [
    "* Checking for and removing null values, if necessary"
   ]
  },
  {
   "cell_type": "code",
   "execution_count": 78,
   "metadata": {},
   "outputs": [
    {
     "name": "stdout",
     "output_type": "stream",
     "text": [
      "<class 'pandas.core.frame.DataFrame'>\n",
      "Index: 1000 entries, 101-17-6199 to 898-04-2717\n",
      "Data columns (total 10 columns):\n",
      " #   Column         Non-Null Count  Dtype  \n",
      "---  ------         --------------  -----  \n",
      " 0   City_ID        1000 non-null   int64  \n",
      " 1   City           1000 non-null   object \n",
      " 2   Customer_Type  1000 non-null   object \n",
      " 3   Product_Line   1000 non-null   object \n",
      " 4   Unit_Price     1000 non-null   float64\n",
      " 5   Quantity       1000 non-null   int64  \n",
      " 6   Total          1000 non-null   float64\n",
      " 7   Date           1000 non-null   object \n",
      " 8   COGS           1000 non-null   float64\n",
      " 9   Rating         1000 non-null   float64\n",
      "dtypes: float64(4), int64(2), object(4)\n",
      "memory usage: 85.9+ KB\n"
     ]
    }
   ],
   "source": [
    "joined_df.info()\n"
   ]
  },
  {
   "attachments": {},
   "cell_type": "markdown",
   "metadata": {},
   "source": [
    "* Checking for and removing duplicate rows, if necessary"
   ]
  },
  {
   "cell_type": "code",
   "execution_count": 79,
   "metadata": {},
   "outputs": [
    {
     "data": {
      "text/plain": [
       "Invoice_ID\n",
       "101-17-6199    False\n",
       "633-91-1052    False\n",
       "634-97-8956    False\n",
       "635-28-5728    False\n",
       "635-40-6220    False\n",
       "               ...  \n",
       "373-73-7910    False\n",
       "373-88-1424    False\n",
       "374-17-3652    False\n",
       "366-43-6862    False\n",
       "898-04-2717    False\n",
       "Length: 1000, dtype: bool"
      ]
     },
     "execution_count": 79,
     "metadata": {},
     "output_type": "execute_result"
    }
   ],
   "source": [
    "joined_df.duplicated().sort_values()"
   ]
  },
  {
   "attachments": {},
   "cell_type": "markdown",
   "metadata": {},
   "source": [
    "* Converting any necessary columns to Pandas DateTime format"
   ]
  },
  {
   "cell_type": "code",
   "execution_count": 80,
   "metadata": {},
   "outputs": [
    {
     "name": "stdout",
     "output_type": "stream",
     "text": [
      "<class 'pandas.core.frame.DataFrame'>\n",
      "Index: 1000 entries, 101-17-6199 to 898-04-2717\n",
      "Data columns (total 10 columns):\n",
      " #   Column         Non-Null Count  Dtype         \n",
      "---  ------         --------------  -----         \n",
      " 0   City_ID        1000 non-null   int64         \n",
      " 1   City           1000 non-null   object        \n",
      " 2   Customer_Type  1000 non-null   object        \n",
      " 3   Product_Line   1000 non-null   object        \n",
      " 4   Unit_Price     1000 non-null   float64       \n",
      " 5   Quantity       1000 non-null   int64         \n",
      " 6   Total          1000 non-null   float64       \n",
      " 7   Date           1000 non-null   datetime64[ns]\n",
      " 8   COGS           1000 non-null   float64       \n",
      " 9   Rating         1000 non-null   float64       \n",
      "dtypes: datetime64[ns](1), float64(4), int64(2), object(3)\n",
      "memory usage: 85.9+ KB\n"
     ]
    }
   ],
   "source": [
    "joined_df[\"Date\"] = pd.to_datetime(joined_df[\"Date\"])\n",
    "joined_df.info()\n",
    "\n",
    "joined_df[\"Product_Line\"] = joined_df[\"Product_Line\"].str.title()\n"
   ]
  },
  {
   "attachments": {},
   "cell_type": "markdown",
   "metadata": {},
   "source": [
    "#### Explore the DataFrame to examine the spread of values across categories. Utilize this exploration to answer the following questions:\n",
    "\n"
   ]
  },
  {
   "attachments": {},
   "cell_type": "markdown",
   "metadata": {},
   "source": [
    "##### How many sales were made for members vs. normal customers?\n",
    "     * There were 501 sales made for members and 499 made for normal customers. "
   ]
  },
  {
   "cell_type": "code",
   "execution_count": 81,
   "metadata": {},
   "outputs": [
    {
     "data": {
      "text/plain": [
       "Member    501\n",
       "Normal    499\n",
       "Name: Customer_Type, dtype: int64"
      ]
     },
     "execution_count": 81,
     "metadata": {},
     "output_type": "execute_result"
    }
   ],
   "source": [
    "joined_df[\"Customer_Type\"].value_counts()"
   ]
  },
  {
   "attachments": {},
   "cell_type": "markdown",
   "metadata": {},
   "source": [
    "##### How many sales were made at each store location?\n",
    "    * There were 340 sales made in Seattle\n",
    "    * There were 332 sales made in New York City\n",
    "    * There were 328 sales made in Milwaukee"
   ]
  },
  {
   "cell_type": "code",
   "execution_count": 82,
   "metadata": {},
   "outputs": [
    {
     "data": {
      "text/plain": [
       "Seattle          340\n",
       "New York City    332\n",
       "Milwaukee        328\n",
       "Name: City, dtype: int64"
      ]
     },
     "execution_count": 82,
     "metadata": {},
     "output_type": "execute_result"
    }
   ],
   "source": [
    "joined_df[\"City\"].value_counts()"
   ]
  },
  {
   "attachments": {},
   "cell_type": "markdown",
   "metadata": {},
   "source": [
    "##### How many sales were made for each product line?\n",
    "    * Fashion accessories       178\n",
    "    * Food and beverages        174\n",
    "    * Electronic accessories    170\n",
    "    * Sports and travel         166\n",
    "    * Home and lifestyle        160\n",
    "    * Health and beauty         152"
   ]
  },
  {
   "cell_type": "code",
   "execution_count": 83,
   "metadata": {},
   "outputs": [
    {
     "data": {
      "text/plain": [
       "Fashion Accessories       178\n",
       "Food And Beverages        174\n",
       "Electronic Accessories    170\n",
       "Sports And Travel         166\n",
       "Home And Lifestyle        160\n",
       "Health And Beauty         152\n",
       "Name: Product_Line, dtype: int64"
      ]
     },
     "execution_count": 83,
     "metadata": {},
     "output_type": "execute_result"
    }
   ],
   "source": [
    "joined_df[\"Product_Line\"].value_counts()"
   ]
  },
  {
   "attachments": {},
   "cell_type": "markdown",
   "metadata": {},
   "source": [
    "##### What is the overall average rating, based on all sales records?\n",
    "    * The overall average rating was 6.9727"
   ]
  },
  {
   "cell_type": "code",
   "execution_count": 84,
   "metadata": {},
   "outputs": [
    {
     "data": {
      "text/plain": [
       "6.9727"
      ]
     },
     "execution_count": 84,
     "metadata": {},
     "output_type": "execute_result"
    }
   ],
   "source": [
    "joined_df[\"Rating\"].mean()"
   ]
  },
  {
   "attachments": {},
   "cell_type": "markdown",
   "metadata": {},
   "source": [
    "#### Create three visualizations of the DataFrame to better understand any trends or patterns within the data set.  Can use a type of chart of my choosing, and can select which variables to analyze.  All three charts should contain the following:\n",
    "* A chart title\n",
    "* X-axis labels, if applicable\n",
    "* Y-axis labels, if applicable\n"
   ]
  },
  {
   "cell_type": "code",
   "execution_count": 85,
   "metadata": {},
   "outputs": [
    {
     "data": {
      "image/png": "[encoded data removed]",
      "text/plain": [
       "<Figure size 1000x600 with 1 Axes>"
      ]
     },
     "metadata": {},
     "output_type": "display_data"
    }
   ],
   "source": [
    "sales_per_location = joined_df[\"City\"].value_counts()\n",
    "my_bar_plot = sales_per_location.plot.bar(figsize=(10,6), color=[\"purple\",\"teal\", \"blue\"])\n",
    "plt.title(\"Sales By Store Location\", fontsize=26)\n",
    "plt.xlabel(\"Store Location\", fontsize=22)\n",
    "plt.ylabel(\"Number of Sales\", fontsize=22)\n",
    "plt.xticks(rotation=\"horizontal\", fontsize=12)\n",
    "my_bar_plot.set_facecolor(\"pink\");"
   ]
  },
  {
   "cell_type": "code",
   "execution_count": 86,
   "metadata": {},
   "outputs": [
    {
     "data": {
      "image/png": "[encoded data removed]",
      "text/plain": [
       "<Figure size 1000x600 with 1 Axes>"
      ]
     },
     "metadata": {},
     "output_type": "display_data"
    }
   ],
   "source": [
    "member_vs_customer = joined_df[\"Customer_Type\"].value_counts()\n",
    "my_pie_plot = member_vs_customer.plot.pie(figsize=(10,6))\n",
    "plt.title(\"Sales By Customer Type\", fontsize=16)\n",
    "plt.ylabel(\"Customer Type\");\n"
   ]
  },
  {
   "cell_type": "code",
   "execution_count": 87,
   "metadata": {},
   "outputs": [
    {
     "data": {
      "image/png": "[encoded data removed]",
      "text/plain": [
       "<Figure size 900x600 with 1 Axes>"
      ]
     },
     "metadata": {},
     "output_type": "display_data"
    }
   ],
   "source": [
    "sales_by_product_line = joined_df[\"Product_Line\"].value_counts()\n",
    "my_plot = sales_by_product_line.plot.bar(figsize=(9,6), color=[\"pink\", \"yellow\", \"orange\", \"purple\", \"tan\", \"teal\"])\n",
    "plt.title(\"Sales By Product Line\", fontsize=20)\n",
    "plt.xlabel(\"Product Line\", fontsize=18)\n",
    "plt.ylabel(\"Number of Sales\", fontsize=18)\n",
    "my_plot.set_facecolor(\"gray\")"
   ]
  },
  {
   "attachments": {},
   "cell_type": "markdown",
   "metadata": {},
   "source": [
    "## Exploratory Data Analysis Part 2"
   ]
  },
  {
   "cell_type": "code",
   "execution_count": 88,
   "metadata": {},
   "outputs": [
    {
     "data": {
      "text/html": [
       "<div>\n",
       "<style scoped>\n",
       "    .dataframe tbody tr th:only-of-type {\n",
       "        vertical-align: middle;\n",
       "    }\n",
       "\n",
       "    .dataframe tbody tr th {\n",
       "        vertical-align: top;\n",
       "    }\n",
       "\n",
       "    .dataframe thead th {\n",
       "        text-align: right;\n",
       "    }\n",
       "</style>\n",
       "<table border=\"1\" class=\"dataframe\">\n",
       "  <thead>\n",
       "    <tr style=\"text-align: right;\">\n",
       "      <th></th>\n",
       "      <th>City_ID</th>\n",
       "      <th>City</th>\n",
       "      <th>Customer_Type</th>\n",
       "      <th>Product_Line</th>\n",
       "      <th>Unit_Price</th>\n",
       "      <th>Quantity</th>\n",
       "      <th>Total</th>\n",
       "      <th>Date</th>\n",
       "      <th>COGS</th>\n",
       "      <th>Rating</th>\n",
       "    </tr>\n",
       "    <tr>\n",
       "      <th>Invoice_ID</th>\n",
       "      <th></th>\n",
       "      <th></th>\n",
       "      <th></th>\n",
       "      <th></th>\n",
       "      <th></th>\n",
       "      <th></th>\n",
       "      <th></th>\n",
       "      <th></th>\n",
       "      <th></th>\n",
       "      <th></th>\n",
       "    </tr>\n",
       "  </thead>\n",
       "  <tbody>\n",
       "    <tr>\n",
       "      <th>101-17-6199</th>\n",
       "      <td>1</td>\n",
       "      <td>Seattle</td>\n",
       "      <td>Normal</td>\n",
       "      <td>Food And Beverages</td>\n",
       "      <td>45.79</td>\n",
       "      <td>7</td>\n",
       "      <td>336.5565</td>\n",
       "      <td>2019-03-13</td>\n",
       "      <td>320.53</td>\n",
       "      <td>7.0</td>\n",
       "    </tr>\n",
       "    <tr>\n",
       "      <th>101-81-4070</th>\n",
       "      <td>3</td>\n",
       "      <td>Milwaukee</td>\n",
       "      <td>Member</td>\n",
       "      <td>Health And Beauty</td>\n",
       "      <td>62.82</td>\n",
       "      <td>2</td>\n",
       "      <td>131.9220</td>\n",
       "      <td>2019-01-17</td>\n",
       "      <td>125.64</td>\n",
       "      <td>4.9</td>\n",
       "    </tr>\n",
       "    <tr>\n",
       "      <th>102-06-2002</th>\n",
       "      <td>3</td>\n",
       "      <td>Milwaukee</td>\n",
       "      <td>Member</td>\n",
       "      <td>Sports And Travel</td>\n",
       "      <td>25.25</td>\n",
       "      <td>5</td>\n",
       "      <td>132.5625</td>\n",
       "      <td>2019-03-20</td>\n",
       "      <td>126.25</td>\n",
       "      <td>6.1</td>\n",
       "    </tr>\n",
       "    <tr>\n",
       "      <th>102-77-2261</th>\n",
       "      <td>3</td>\n",
       "      <td>Milwaukee</td>\n",
       "      <td>Member</td>\n",
       "      <td>Health And Beauty</td>\n",
       "      <td>65.31</td>\n",
       "      <td>7</td>\n",
       "      <td>480.0285</td>\n",
       "      <td>2019-03-05</td>\n",
       "      <td>457.17</td>\n",
       "      <td>4.2</td>\n",
       "    </tr>\n",
       "    <tr>\n",
       "      <th>105-10-6182</th>\n",
       "      <td>1</td>\n",
       "      <td>Seattle</td>\n",
       "      <td>Member</td>\n",
       "      <td>Fashion Accessories</td>\n",
       "      <td>21.48</td>\n",
       "      <td>2</td>\n",
       "      <td>45.1080</td>\n",
       "      <td>2019-02-27</td>\n",
       "      <td>42.96</td>\n",
       "      <td>6.6</td>\n",
       "    </tr>\n",
       "  </tbody>\n",
       "</table>\n",
       "</div>"
      ],
      "text/plain": [
       "             City_ID       City Customer_Type         Product_Line  \\\n",
       "Invoice_ID                                                           \n",
       "101-17-6199        1    Seattle        Normal   Food And Beverages   \n",
       "101-81-4070        3  Milwaukee        Member    Health And Beauty   \n",
       "102-06-2002        3  Milwaukee        Member    Sports And Travel   \n",
       "102-77-2261        3  Milwaukee        Member    Health And Beauty   \n",
       "105-10-6182        1    Seattle        Member  Fashion Accessories   \n",
       "\n",
       "             Unit_Price  Quantity     Total       Date    COGS  Rating  \n",
       "Invoice_ID                                                              \n",
       "101-17-6199       45.79         7  336.5565 2019-03-13  320.53     7.0  \n",
       "101-81-4070       62.82         2  131.9220 2019-01-17  125.64     4.9  \n",
       "102-06-2002       25.25         5  132.5625 2019-03-20  126.25     6.1  \n",
       "102-77-2261       65.31         7  480.0285 2019-03-05  457.17     4.2  \n",
       "105-10-6182       21.48         2   45.1080 2019-02-27   42.96     6.6  "
      ]
     },
     "execution_count": 88,
     "metadata": {},
     "output_type": "execute_result"
    }
   ],
   "source": [
    "joined_df.head()"
   ]
  },
  {
   "attachments": {},
   "cell_type": "markdown",
   "metadata": {},
   "source": [
    "#### Describe numeric trends in the DataFrame, using the appropriate Pandas function"
   ]
  },
  {
   "cell_type": "code",
   "execution_count": 89,
   "metadata": {},
   "outputs": [
    {
     "data": {
      "text/html": [
       "<div>\n",
       "<style scoped>\n",
       "    .dataframe tbody tr th:only-of-type {\n",
       "        vertical-align: middle;\n",
       "    }\n",
       "\n",
       "    .dataframe tbody tr th {\n",
       "        vertical-align: top;\n",
       "    }\n",
       "\n",
       "    .dataframe thead th {\n",
       "        text-align: right;\n",
       "    }\n",
       "</style>\n",
       "<table border=\"1\" class=\"dataframe\">\n",
       "  <thead>\n",
       "    <tr style=\"text-align: right;\">\n",
       "      <th></th>\n",
       "      <th>City_ID</th>\n",
       "      <th>Unit_Price</th>\n",
       "      <th>Quantity</th>\n",
       "      <th>Total</th>\n",
       "      <th>COGS</th>\n",
       "      <th>Rating</th>\n",
       "    </tr>\n",
       "  </thead>\n",
       "  <tbody>\n",
       "    <tr>\n",
       "      <th>count</th>\n",
       "      <td>1000.000000</td>\n",
       "      <td>1000.000000</td>\n",
       "      <td>1000.000000</td>\n",
       "      <td>1000.000000</td>\n",
       "      <td>1000.00000</td>\n",
       "      <td>1000.00000</td>\n",
       "    </tr>\n",
       "    <tr>\n",
       "      <th>mean</th>\n",
       "      <td>1.988000</td>\n",
       "      <td>55.672130</td>\n",
       "      <td>5.510000</td>\n",
       "      <td>322.966749</td>\n",
       "      <td>307.58738</td>\n",
       "      <td>6.97270</td>\n",
       "    </tr>\n",
       "    <tr>\n",
       "      <th>std</th>\n",
       "      <td>0.817633</td>\n",
       "      <td>26.494628</td>\n",
       "      <td>2.923431</td>\n",
       "      <td>245.885335</td>\n",
       "      <td>234.17651</td>\n",
       "      <td>1.71858</td>\n",
       "    </tr>\n",
       "    <tr>\n",
       "      <th>min</th>\n",
       "      <td>1.000000</td>\n",
       "      <td>10.080000</td>\n",
       "      <td>1.000000</td>\n",
       "      <td>10.678500</td>\n",
       "      <td>10.17000</td>\n",
       "      <td>4.00000</td>\n",
       "    </tr>\n",
       "    <tr>\n",
       "      <th>25%</th>\n",
       "      <td>1.000000</td>\n",
       "      <td>32.875000</td>\n",
       "      <td>3.000000</td>\n",
       "      <td>124.422375</td>\n",
       "      <td>118.49750</td>\n",
       "      <td>5.50000</td>\n",
       "    </tr>\n",
       "    <tr>\n",
       "      <th>50%</th>\n",
       "      <td>2.000000</td>\n",
       "      <td>55.230000</td>\n",
       "      <td>5.000000</td>\n",
       "      <td>253.848000</td>\n",
       "      <td>241.76000</td>\n",
       "      <td>7.00000</td>\n",
       "    </tr>\n",
       "    <tr>\n",
       "      <th>75%</th>\n",
       "      <td>3.000000</td>\n",
       "      <td>77.935000</td>\n",
       "      <td>8.000000</td>\n",
       "      <td>471.350250</td>\n",
       "      <td>448.90500</td>\n",
       "      <td>8.50000</td>\n",
       "    </tr>\n",
       "    <tr>\n",
       "      <th>max</th>\n",
       "      <td>3.000000</td>\n",
       "      <td>99.960000</td>\n",
       "      <td>10.000000</td>\n",
       "      <td>1042.650000</td>\n",
       "      <td>993.00000</td>\n",
       "      <td>10.00000</td>\n",
       "    </tr>\n",
       "  </tbody>\n",
       "</table>\n",
       "</div>"
      ],
      "text/plain": [
       "           City_ID   Unit_Price     Quantity        Total        COGS  \\\n",
       "count  1000.000000  1000.000000  1000.000000  1000.000000  1000.00000   \n",
       "mean      1.988000    55.672130     5.510000   322.966749   307.58738   \n",
       "std       0.817633    26.494628     2.923431   245.885335   234.17651   \n",
       "min       1.000000    10.080000     1.000000    10.678500    10.17000   \n",
       "25%       1.000000    32.875000     3.000000   124.422375   118.49750   \n",
       "50%       2.000000    55.230000     5.000000   253.848000   241.76000   \n",
       "75%       3.000000    77.935000     8.000000   471.350250   448.90500   \n",
       "max       3.000000    99.960000    10.000000  1042.650000   993.00000   \n",
       "\n",
       "           Rating  \n",
       "count  1000.00000  \n",
       "mean      6.97270  \n",
       "std       1.71858  \n",
       "min       4.00000  \n",
       "25%       5.50000  \n",
       "50%       7.00000  \n",
       "75%       8.50000  \n",
       "max      10.00000  "
      ]
     },
     "execution_count": 89,
     "metadata": {},
     "output_type": "execute_result"
    }
   ],
   "source": [
    "joined_df.describe()"
   ]
  },
  {
   "attachments": {},
   "cell_type": "markdown",
   "metadata": {},
   "source": [
    "#### Explore the correlation between columns of the data set, using the appropriate Pandas function"
   ]
  },
  {
   "cell_type": "code",
   "execution_count": 90,
   "metadata": {},
   "outputs": [
    {
     "name": "stderr",
     "output_type": "stream",
     "text": [
      "C:\\Users\\katri\\AppData\\Local\\Temp\\ipykernel_4120\\828153247.py:1: FutureWarning: The default value of numeric_only in DataFrame.corr is deprecated. In a future version, it will default to False. Select only valid columns or specify the value of numeric_only to silence this warning.\n",
      "  joined_df.corr()\n"
     ]
    },
    {
     "data": {
      "text/html": [
       "<div>\n",
       "<style scoped>\n",
       "    .dataframe tbody tr th:only-of-type {\n",
       "        vertical-align: middle;\n",
       "    }\n",
       "\n",
       "    .dataframe tbody tr th {\n",
       "        vertical-align: top;\n",
       "    }\n",
       "\n",
       "    .dataframe thead th {\n",
       "        text-align: right;\n",
       "    }\n",
       "</style>\n",
       "<table border=\"1\" class=\"dataframe\">\n",
       "  <thead>\n",
       "    <tr style=\"text-align: right;\">\n",
       "      <th></th>\n",
       "      <th>City_ID</th>\n",
       "      <th>Unit_Price</th>\n",
       "      <th>Quantity</th>\n",
       "      <th>Total</th>\n",
       "      <th>COGS</th>\n",
       "      <th>Rating</th>\n",
       "    </tr>\n",
       "  </thead>\n",
       "  <tbody>\n",
       "    <tr>\n",
       "      <th>City_ID</th>\n",
       "      <td>1.000000</td>\n",
       "      <td>0.028202</td>\n",
       "      <td>0.015964</td>\n",
       "      <td>0.041047</td>\n",
       "      <td>0.041047</td>\n",
       "      <td>0.010238</td>\n",
       "    </tr>\n",
       "    <tr>\n",
       "      <th>Unit_Price</th>\n",
       "      <td>0.028202</td>\n",
       "      <td>1.000000</td>\n",
       "      <td>0.010778</td>\n",
       "      <td>0.633962</td>\n",
       "      <td>0.633962</td>\n",
       "      <td>-0.008778</td>\n",
       "    </tr>\n",
       "    <tr>\n",
       "      <th>Quantity</th>\n",
       "      <td>0.015964</td>\n",
       "      <td>0.010778</td>\n",
       "      <td>1.000000</td>\n",
       "      <td>0.705510</td>\n",
       "      <td>0.705510</td>\n",
       "      <td>-0.015815</td>\n",
       "    </tr>\n",
       "    <tr>\n",
       "      <th>Total</th>\n",
       "      <td>0.041047</td>\n",
       "      <td>0.633962</td>\n",
       "      <td>0.705510</td>\n",
       "      <td>1.000000</td>\n",
       "      <td>1.000000</td>\n",
       "      <td>-0.036442</td>\n",
       "    </tr>\n",
       "    <tr>\n",
       "      <th>COGS</th>\n",
       "      <td>0.041047</td>\n",
       "      <td>0.633962</td>\n",
       "      <td>0.705510</td>\n",
       "      <td>1.000000</td>\n",
       "      <td>1.000000</td>\n",
       "      <td>-0.036442</td>\n",
       "    </tr>\n",
       "    <tr>\n",
       "      <th>Rating</th>\n",
       "      <td>0.010238</td>\n",
       "      <td>-0.008778</td>\n",
       "      <td>-0.015815</td>\n",
       "      <td>-0.036442</td>\n",
       "      <td>-0.036442</td>\n",
       "      <td>1.000000</td>\n",
       "    </tr>\n",
       "  </tbody>\n",
       "</table>\n",
       "</div>"
      ],
      "text/plain": [
       "             City_ID  Unit_Price  Quantity     Total      COGS    Rating\n",
       "City_ID     1.000000    0.028202  0.015964  0.041047  0.041047  0.010238\n",
       "Unit_Price  0.028202    1.000000  0.010778  0.633962  0.633962 -0.008778\n",
       "Quantity    0.015964    0.010778  1.000000  0.705510  0.705510 -0.015815\n",
       "Total       0.041047    0.633962  0.705510  1.000000  1.000000 -0.036442\n",
       "COGS        0.041047    0.633962  0.705510  1.000000  1.000000 -0.036442\n",
       "Rating      0.010238   -0.008778 -0.015815 -0.036442 -0.036442  1.000000"
      ]
     },
     "execution_count": 90,
     "metadata": {},
     "output_type": "execute_result"
    }
   ],
   "source": [
    "joined_df.corr()"
   ]
  },
  {
   "attachments": {},
   "cell_type": "markdown",
   "metadata": {},
   "source": [
    "#### Reshape two columns to prepare for fitting to a linear regression model, and save each as its own unique variable"
   ]
  },
  {
   "cell_type": "code",
   "execution_count": 91,
   "metadata": {},
   "outputs": [],
   "source": [
    "reshaped_x = joined_df[[\"Quantity\"]]\n",
    "reshaped_y = joined_df[\"COGS\"]\n"
   ]
  },
  {
   "attachments": {},
   "cell_type": "markdown",
   "metadata": {},
   "source": [
    "#### Create a new LinearRegression instance, and use the appropriate function to create a predictive model for my Y-axis values.\n"
   ]
  },
  {
   "cell_type": "code",
   "execution_count": 92,
   "metadata": {},
   "outputs": [],
   "source": [
    "model = LinearRegression()\n",
    "\n",
    "model.fit(reshaped_x, reshaped_y)\n",
    "\n",
    "predicteded_y_values = model.predict(reshaped_x)"
   ]
  },
  {
   "attachments": {},
   "cell_type": "markdown",
   "metadata": {},
   "source": [
    "#### Create a visualization of a predictive model, and ensure it includes the following stylizations:\n",
    "* A chart title\n",
    "* X-axis label\n",
    "* Y-axis label\n",
    "* A different color line for my predictive model\n"
   ]
  },
  {
   "cell_type": "code",
   "execution_count": 93,
   "metadata": {},
   "outputs": [
    {
     "data": {
      "image/png": "[encoded data removed]",
      "text/plain": [
       "<Figure size 800x500 with 1 Axes>"
      ]
     },
     "metadata": {},
     "output_type": "display_data"
    }
   ],
   "source": [
    "joined_df.plot.scatter(x=\"Quantity\", y=\"COGS\", figsize=(8,5))\n",
    "plt.title(\"Cost of Goods Sold and Quantity\", fontsize=22)\n",
    "plt.xlabel(\"Quantity\", fontsize=18)\n",
    "plt.ylabel(\"Cost of Goods Sold\", fontsize=18)\n",
    "plt.plot(reshaped_x, predicteded_y_values, color=\"Red\");"
   ]
  }
 ],
 "metadata": {
  "kernelspec": {
   "display_name": "Python 3",
   "language": "python",
   "name": "python3"
  },
  "language_info": {
   "codemirror_mode": {
    "name": "ipython",
    "version": 3
   },
   "file_extension": ".py",
   "mimetype": "text/x-python",
   "name": "python",
   "nbconvert_exporter": "python",
   "pygments_lexer": "ipython3",
   "version": "3.10.8"
  },
  "orig_nbformat": 4,
  "vscode": {
   "interpreter": {
    "hash": "3156c576b15591a6133ec0b7ca397b53c5b07cf6a813d1c1811258ebf082f29d"
   }
  }
 },
 "nbformat": 4,
 "nbformat_minor": 2
}
